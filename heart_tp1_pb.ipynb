{
  "nbformat": 4,
  "nbformat_minor": 0,
  "metadata": {
    "colab": {
      "provenance": [],
      "authorship_tag": "ABX9TyMsQHHe83KlvYUdKWcKIaOd",
      "include_colab_link": true
    },
    "kernelspec": {
      "name": "python3",
      "display_name": "Python 3"
    },
    "language_info": {
      "name": "python"
    }
  },
  "cells": [
    {
      "cell_type": "markdown",
      "metadata": {
        "id": "view-in-github",
        "colab_type": "text"
      },
      "source": [
        "<a href=\"https://colab.research.google.com/github/flaviorv/pb_ai_ml/blob/main/heart_tp1_pb.ipynb\" target=\"_parent\"><img src=\"https://colab.research.google.com/assets/colab-badge.svg\" alt=\"Open In Colab\"/></a>"
      ]
    },
    {
      "cell_type": "code",
      "execution_count": 17,
      "metadata": {
        "colab": {
          "base_uri": "https://localhost:8080/"
        },
        "id": "IjSicsiWdxjl",
        "outputId": "38955528-8368-430b-a824-8a4e1cbd7e0c"
      },
      "outputs": [
        {
          "output_type": "stream",
          "name": "stdout",
          "text": [
            "Features:\n",
            "   Age Sex ChestPainType  RestingBP  Cholesterol  FastingBS RestingECG  MaxHR  \\\n",
            "0   40   M           ATA        140          289          0     Normal    172   \n",
            "1   49   F           NAP        160          180          0     Normal    156   \n",
            "2   37   M           ATA        130          283          0         ST     98   \n",
            "3   48   F           ASY        138          214          0     Normal    108   \n",
            "4   54   M           NAP        150          195          0     Normal    122   \n",
            "\n",
            "  ExerciseAngina  Oldpeak ST_Slope  \n",
            "0              N      0.0       Up  \n",
            "1              N      1.0     Flat  \n",
            "2              N      0.0       Up  \n",
            "3              Y      1.5     Flat  \n",
            "4              N      0.0       Up  \n",
            "\n",
            "Target:\n",
            "0    0\n",
            "1    1\n",
            "2    0\n",
            "3    1\n",
            "4    0\n",
            "Name: HeartDisease, dtype: int64\n",
            "\n",
            "Results:\n",
            "    K Neighbors Accuracy\n",
            "0            10     0.86\n",
            "1            60     0.89\n",
            "2           110     0.89\n",
            "3           160     0.89\n",
            "4           210     0.85\n",
            "5           260     0.86\n",
            "6           310     0.86\n",
            "7           360     0.85\n",
            "8           410     0.84\n",
            "9           460     0.84\n",
            "10          510     0.84\n"
          ]
        }
      ],
      "source": [
        "import pandas as pd\n",
        "from sklearn.model_selection import train_test_split\n",
        "from sklearn.preprocessing import OneHotEncoder, RobustScaler, OrdinalEncoder\n",
        "from sklearn.compose import ColumnTransformer\n",
        "from sklearn.neighbors import KNeighborsClassifier\n",
        "from sklearn.metrics import accuracy_score\n",
        "\n",
        "# Questão 1 - Carregamento de Dados: Identifique as características (features) e o alvo (target)\n",
        "# nos conjuntos de dados, compreendendo sua estrutura e importância.\n",
        "\n",
        "#Obtendo dataset do repositório\n",
        "url = 'https://raw.githubusercontent.com/professortiagoinfnet/inteligencia_artificial/refs/heads/main/heart.csv'\n",
        "heart_df = pd.read_csv(url).dropna()\n",
        "\n",
        "# Neste dataset, 'Sex', 'ChestPainType', 'FastingBS', 'RestingECG', 'ExerciseAngina'\n",
        "# e 'ST_Slope' são features categóricas. ‘Age’, ‘RestingBP’, ‘Cholesterol’, ‘MaxHR’, e\n",
        "# ‘Oldpeak’, são features contínuas. ‘HeartDisease’ é o target.\n",
        "# As features são as características de algo que tentamos encontrar padrões para\n",
        "# treinar a IA através desses padrões. Nesse caso, são dados de um paciente, como\n",
        "# a idade, colesterol, etc. O target, é o que tentaremos prever.\n",
        "# Em um aprendizado supervisionado como esse, já temos o target nos dados de aprendizado para\n",
        "# ajudar no treino e à encontrar um padrão entre as features e o target.\n",
        "# O target deste dataset é um booleano para cardiopata ou não.\n",
        "\n",
        "#Separando as features e o target\n",
        "columns = list(heart_df.head())\n",
        "\n",
        "target_name = columns.pop()\n",
        "feature_names = columns\n",
        "\n",
        "target = heart_df[target_name]\n",
        "features = heart_df[feature_names]\n",
        "\n",
        "print(f'Features:\\n{features.head()}', end='\\n\\n')\n",
        "print(f'Target:\\n{target.head()}', end='\\n\\n')\n",
        "\n",
        "# Questão 2 - Divisão de Dados: Separe os dados em conjuntos de treino e validação,\n",
        "# essenciais para o desenvolvimento e avaliação de modelos de ML.\n",
        "# Você irá dividir 80% dos dados para treino e o restante para validação.\n",
        "\n",
        "#Separando os dados de treino dos de validação\n",
        "x_train, x_val, y_train, y_val = train_test_split(features, target, train_size=0.80)\n",
        "\n",
        "# Questão 3 - Transformação de Dados: Utilize transformadores do Scikit-Learn para ajustar e padronizar as variáveis dos dados.\n",
        "\n",
        "# Transformando variáveis categóricas com BinaryEncoding e OneHotEncoding,\n",
        "# enquanto as contínuas tem suas escalas modificadas com StandardScaler.\n",
        "f_continuous = ['Age', 'RestingBP', 'Cholesterol', 'MaxHR', 'Oldpeak']\n",
        "f_binary = ['Sex', 'ExerciseAngina']\n",
        "f_multiclass = ['ChestPainType', 'RestingECG', 'ST_Slope']\n",
        "\n",
        "preprocessor = ColumnTransformer(\n",
        "    transformers = [\n",
        "        ('continuous', RobustScaler(), f_continuous),\n",
        "        ('binary', OrdinalEncoder(), f_binary),\n",
        "        ('multiclass', OneHotEncoder(handle_unknown='ignore'), f_multiclass)\n",
        "    ],\n",
        "    remainder='passthrough'\n",
        ")\n",
        "\n",
        "x_train_transformed = preprocessor.fit_transform(x_train)\n",
        "x_val_transformed = preprocessor.transform(x_val)\n",
        "\n",
        "# Questão 4 - Modelagem de K-Nearest Neighbors (KNN): Implemente e ajuste o algoritmo KNN, compreendendo suas nuances e aplicabilidade.\n",
        "# Questão 5 - Avaliação de Modelos: Avalie a qualidade do modelo desenvolvido usando acurácia\n",
        "# Questão 6 - Análise de Parâmetros: Explore diferentes valores para o parâmetro K do KNN e analise seu impacto nos resultados obtidos (através da acurácia do modelo para os dados de validação).\n",
        "\n",
        "# Utilizando um loop para treinamento com KNN com diferentes k vizinhos.\n",
        "results = pd.DataFrame(columns=['K Neighbors', 'Accuracy'])\n",
        "for k in range(10, 511, 50):\n",
        "  # Instância do KNN\n",
        "  knn = KNeighborsClassifier(n_neighbors=k)\n",
        "  # Realizando o treinamento\n",
        "  knn.fit(x_train_transformed, y_train)\n",
        "  # Prevendo os dados de validação\n",
        "  predicted = knn.predict(x_val_transformed)\n",
        "  # Verificando acurácia dos dados previstos\n",
        "  results.loc[len(results)] = [k, f'{accuracy_score(y_val, predicted):.2f}']\n",
        "print(f'Results:\\n{results}')"
      ]
    }
  ]
}